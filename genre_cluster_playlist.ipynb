{
 "cells": [
  {
   "cell_type": "markdown",
   "id": "6a7abc40",
   "metadata": {},
   "source": [
    "# Clustering Songs in a Playlist by Genre"
   ]
  },
  {
   "cell_type": "code",
   "execution_count": null,
   "id": "be8b5115",
   "metadata": {},
   "outputs": [],
   "source": [
    "import os\n",
    "import time\n",
    "import spotipy\n",
    "import pandas as pd\n",
    "import numpy as np\n",
    "import matplotlib.pyplot as plt\n",
    "import seaborn as sns\n",
    "\n",
    "from sklearn.preprocessing import MultiLabelBinarizer\n",
    "from sklearn.metrics.pairwise import cosine_distances\n",
    "from sklearn.cluster import AgglomerativeClustering\n",
    "from spotipy.oauth2 import SpotifyClientCredentials\n",
    "from dotenv import load_dotenv\n",
    "\n",
    "\n",
    "load_dotenv()\n",
    "sp = spotipy.Spotify(auth_manager=SpotifyClientCredentials(\n",
    "    client_id=os.getenv(\"SPOTIPY_CLIENT_ID\"),\n",
    "    client_secret=os.getenv(\"SPOTIPY_CLIENT_SECRET\")\n",
    "))\n"
   ]
  },
  {
   "cell_type": "code",
   "execution_count": null,
   "id": "835d1cd0",
   "metadata": {},
   "outputs": [],
   "source": [
    "def get_playlist_track_ids(playlist_id):\n",
    "    track_ids = []\n",
    "    results = sp.playlist_items(playlist_id, additional_types=['track'])\n",
    "    while results:\n",
    "        for item in results['items']:\n",
    "            track = item['track']\n",
    "            if track and track.get('id'):\n",
    "                track_ids.append(track['id'])\n",
    "        if results['next']:\n",
    "            results = sp.next(results)\n",
    "            time.sleep(0.5)\n",
    "        else:\n",
    "            break\n",
    "    return list(set(track_ids)) "
   ]
  },
  {
   "cell_type": "code",
   "execution_count": 10,
   "id": "93a2e4a9",
   "metadata": {},
   "outputs": [],
   "source": [
    "def get_track_and_genre_info(track_ids):\n",
    "    tracks_data = []\n",
    "    for tid in track_ids:\n",
    "        try:\n",
    "            track = sp.track(tid)\n",
    "            artist = track['artists'][0]\n",
    "            artist_info = sp.artist(artist['id'])\n",
    "            genres = artist_info.get('genres', [])\n",
    "            tracks_data.append({\n",
    "                'track_id': track['id'],\n",
    "                'track_name': track['name'],\n",
    "                'artist_name': artist['name'],\n",
    "                'artist_id': artist['id'],\n",
    "                'genres': genres\n",
    "            })\n",
    "            time.sleep(0.1)\n",
    "        except Exception as e:\n",
    "            print(f\"Error with track {tid}: {e}\")\n",
    "    return pd.DataFrame(tracks_data)\n"
   ]
  },
  {
   "cell_type": "code",
   "execution_count": null,
   "id": "59460b85",
   "metadata": {},
   "outputs": [],
   "source": [
    "def cluster_tracks_by_genre(df_tracks, n_clusters=4):\n",
    "    df_tracks = df_tracks[df_tracks['genres'].map(len) > 0]\n",
    "    mlb = MultiLabelBinarizer()\n",
    "    genre_matrix = mlb.fit_transform(df_tracks['genres'])\n",
    "    genre_df = pd.DataFrame(genre_matrix, columns=mlb.classes_)\n",
    "\n",
    "    distance_matrix = cosine_distances(genre_df)\n",
    "\n",
    "    clustering = AgglomerativeClustering(\n",
    "        metric='precomputed', \n",
    "        linkage='average',\n",
    "        n_clusters=n_clusters\n",
    "    )\n",
    "    df_tracks['cluster'] = clustering.fit_predict(distance_matrix)\n",
    "    return df_tracks\n"
   ]
  },
  {
   "cell_type": "code",
   "execution_count": 12,
   "id": "ae37ea2b",
   "metadata": {},
   "outputs": [],
   "source": [
    "def visualize_clusters(df_tracks):\n",
    "    sns.set(style=\"whitegrid\")\n",
    "    plt.figure(figsize=(6, 4))\n",
    "    sns.countplot(x='cluster', data=df_tracks, palette='Set2')\n",
    "    plt.title('Number of Songs per Genre Cluster')\n",
    "    plt.xlabel('Cluster')\n",
    "    plt.ylabel('Song Count')\n",
    "    plt.tight_layout()\n",
    "    plt.show()\n",
    "\n",
    "def print_cluster_samples(df_tracks, n_clusters):\n",
    "    for c in range(n_clusters):\n",
    "        print(f\"\\n🎧 Cluster {c}:\")\n",
    "        cluster_df = df_tracks[df_tracks['cluster'] == c][['track_name', 'artist_name', 'genres']]\n",
    "        print(cluster_df.head(5).to_string(index=False))\n"
   ]
  },
  {
   "cell_type": "code",
   "execution_count": null,
   "id": "354be8c2",
   "metadata": {},
   "outputs": [
    {
     "name": "stdout",
     "output_type": "stream",
     "text": [
      "\n",
      "🎧 Cluster 0:\n",
      "                                      track_name      artist_name                              genres\n",
      "Lose Yourself to Dance (feat. Pharrell Williams)        Daft Punk [french house, electronic, electro]\n",
      "                               Don't You Want Me The Human League                [new wave, synthpop]\n",
      "                                  Memphis, Pt. 2          AG Club               [alternative hip hop]\n",
      "            Choppa Won't Miss (feat. Young Thug)    Playboi Carti                          [rage rap]\n",
      "                                      Deceptacon         Le Tigre                      [electroclash]\n",
      "\n",
      "🎧 Cluster 1:\n",
      "                                  track_name          artist_name                                                        genres\n",
      "                                      PRIDE.       Kendrick Lamar                                 [hip hop, west coast hip hop]\n",
      "                                      HYAENA         Travis Scott                                                         [rap]\n",
      "C.R.E.A.M. (Cash Rules Everything Around Me)         Wu-Tang Clan [east coast hip hop, hip hop, gangster rap, hardcore hip hop]\n",
      "                          Party And Bullshit The Notorious B.I.G.                   [gangster rap, east coast hip hop, hip hop]\n",
      "                                    Who is U             Lil Gnar                                                 [melodic rap]\n",
      "\n",
      "🎧 Cluster 2:\n",
      "                     track_name artist_name                   genres\n",
      "                     Eventually Tame Impala [indie, psychedelic pop]\n",
      "         Posthumous Forgiveness Tame Impala [indie, psychedelic pop]\n",
      "Feels Like We Only Go Backwards Tame Impala [indie, psychedelic pop]\n",
      "     The Less I Know The Better Tame Impala [indie, psychedelic pop]\n",
      "               My Kind of Woman Mac DeMarco                  [indie]\n",
      "\n",
      "🎧 Cluster 3:\n",
      "                                                         track_name              artist_name                                   genres\n",
      "                                                   Pass The Dutchie            Musical Youth                                 [reggae]\n",
      "Medication (ft. Stephen Marley, Wiz Khalifa, Ty Dolla $ign) - Remix            Damian Marley [reggae, ragga, roots reggae, dancehall]\n",
      "                                                 Could You Be Loved Bob Marley & The Wailers                   [reggae, roots reggae]\n",
      "                                                            Jamming Bob Marley & The Wailers                   [reggae, roots reggae]\n",
      "                            No Guns Allowed (feat. Drake & Cori B.)               Snoop Lion                                 [reggae]\n"
     ]
    },
    {
     "name": "stderr",
     "output_type": "stream",
     "text": [
      "/var/folders/kw/g1163sld0bng6q70v4hldvtw0000gn/T/ipykernel_26012/2574418868.py:14: SettingWithCopyWarning: \n",
      "A value is trying to be set on a copy of a slice from a DataFrame.\n",
      "Try using .loc[row_indexer,col_indexer] = value instead\n",
      "\n",
      "See the caveats in the documentation: https://pandas.pydata.org/pandas-docs/stable/user_guide/indexing.html#returning-a-view-versus-a-copy\n",
      "  df_tracks['cluster'] = clustering.fit_predict(distance_matrix)\n"
     ]
    },
    {
     "data": {
      "image/png": "[encoded data removed]",
      "text/plain": [
       "<Figure size 600x400 with 1 Axes>"
      ]
     },
     "metadata": {},
     "output_type": "display_data"
    }
   ],
   "source": [
    "playlist_id = \"79mXvSd3YpbxeAztsIBz7z\" \n",
    "track_ids = get_playlist_track_ids(playlist_id)\n",
    "df_tracks = get_track_and_genre_info(track_ids)\n",
    "df_clustered = cluster_tracks_by_genre(df_tracks, n_clusters=4)\n",
    "\n",
    "print_cluster_samples(df_clustered, n_clusters=4)\n",
    "visualize_clusters(df_clustered)\n",
    "\n",
    "\n",
    "df_clustered.to_csv(\"playlist_genre_clusters.csv\", index=False)\n"
   ]
  }
 ],
 "metadata": {
  "kernelspec": {
   "display_name": "3.10.12",
   "language": "python",
   "name": "python3"
  },
  "language_info": {
   "codemirror_mode": {
    "name": "ipython",
    "version": 3
   },
   "file_extension": ".py",
   "mimetype": "text/x-python",
   "name": "python",
   "nbconvert_exporter": "python",
   "pygments_lexer": "ipython3",
   "version": "3.10.12"
  }
 },
 "nbformat": 4,
 "nbformat_minor": 5
}
